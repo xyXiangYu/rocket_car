{
 "cells": [
  {
   "cell_type": "code",
   "execution_count": 2,
   "metadata": {},
   "outputs": [
    {
     "ename": "Exception",
     "evalue": " @error: Solution Not Found\n",
     "output_type": "error",
     "traceback": [
      "\u001b[1;31m---------------------------------------------------------------------------\u001b[0m",
      "\u001b[1;31mException\u001b[0m                                 Traceback (most recent call last)",
      "Cell \u001b[1;32mIn [2], line 29\u001b[0m\n\u001b[0;32m     27\u001b[0m m\u001b[38;5;241m.\u001b[39mObj(tf)\n\u001b[0;32m     28\u001b[0m m\u001b[38;5;241m.\u001b[39moptions\u001b[38;5;241m.\u001b[39mIMODE \u001b[38;5;241m=\u001b[39m \u001b[38;5;241m6\u001b[39m\n\u001b[1;32m---> 29\u001b[0m \u001b[43mm\u001b[49m\u001b[38;5;241;43m.\u001b[39;49m\u001b[43msolve\u001b[49m\u001b[43m(\u001b[49m\u001b[43mdisp\u001b[49m\u001b[38;5;241;43m=\u001b[39;49m\u001b[38;5;28;43;01mFalse\u001b[39;49;00m\u001b[43m)\u001b[49m\n\u001b[0;32m     30\u001b[0m \u001b[38;5;28mprint\u001b[39m(\u001b[38;5;124m'\u001b[39m\u001b[38;5;124mFinal Time: \u001b[39m\u001b[38;5;124m'\u001b[39m \u001b[38;5;241m+\u001b[39m \u001b[38;5;28mstr\u001b[39m(tf\u001b[38;5;241m.\u001b[39mvalue[\u001b[38;5;241m0\u001b[39m]))\n\u001b[0;32m     31\u001b[0m tm \u001b[38;5;241m=\u001b[39m np\u001b[38;5;241m.\u001b[39mlinspace(\u001b[38;5;241m0\u001b[39m,tf\u001b[38;5;241m.\u001b[39mvalue[\u001b[38;5;241m0\u001b[39m],nt)\n",
      "File \u001b[1;32mc:\\Codes\\dev_virtual_venv\\dev_venv\\lib\\site-packages\\gekko\\gekko.py:2185\u001b[0m, in \u001b[0;36mGEKKO.solve\u001b[1;34m(self, disp, debug, GUI, **kwargs)\u001b[0m\n\u001b[0;32m   2183\u001b[0m \u001b[39m#print APM error message and die\u001b[39;00m\n\u001b[0;32m   2184\u001b[0m \u001b[39mif\u001b[39;00m (debug \u001b[39m>\u001b[39m\u001b[39m=\u001b[39m \u001b[39m1\u001b[39m) \u001b[39mand\u001b[39;00m (\u001b[39m'\u001b[39m\u001b[39m@error\u001b[39m\u001b[39m'\u001b[39m \u001b[39min\u001b[39;00m response):\n\u001b[1;32m-> 2185\u001b[0m     \u001b[39mraise\u001b[39;00m \u001b[39mException\u001b[39;00m(response)\n\u001b[0;32m   2187\u001b[0m \u001b[39m#load results\u001b[39;00m\n\u001b[0;32m   2188\u001b[0m \u001b[39mdef\u001b[39;00m \u001b[39mbyte2str\u001b[39m(byte):\n",
      "\u001b[1;31mException\u001b[0m:  @error: Solution Not Found\n"
     ]
    }
   ],
   "source": [
    "from gekko import GEKKO\n",
    "import numpy as np\n",
    "import matplotlib.pyplot as plt\n",
    "%matplotlib inline\n",
    "\n",
    "m = GEKKO() # initialize GEKKO\n",
    "nt = 501\n",
    "m.time = np.linspace(0,1,nt)\n",
    "# Variables  ## initial value\n",
    "x1 = m.Var(value=0)\n",
    "x2 = m.Var(value=0)\n",
    "# x3 = m.Var(value=0.0)\n",
    "p = np.zeros(nt) # final time = 1\n",
    "p[-1] = 1.0\n",
    "final = m.Param(value=p)\n",
    "# optimize final time\n",
    "tf = m.FV(value=1.0,lb=0.01,ub=100.0)\n",
    "tf.STATUS = 1\n",
    "# control changes every time period\n",
    "u = m.MV(value=0,lb=-10,ub=10) ## control value\n",
    "u.STATUS = 1\n",
    "m.Equation(x1.dt()==x2*tf)\n",
    "m.Equation(x2.dt()==u*tf)\n",
    "# m.Equation(x3.dt()==m.sin(x1)*tf)\n",
    "m.Equation(x1*final>=10)\n",
    "m.Equation(x2*final<=0)\n",
    "m.Obj(tf)\n",
    "m.options.IMODE = 6\n",
    "m.solve(disp=False)\n",
    "print('Final Time: ' + str(tf.value[0]))\n",
    "tm = np.linspace(0,tf.value[0],nt)\n",
    "plt.figure(1)\n",
    "plt.plot(tm,x1.value,'k-',label=r'$x_1$')\n",
    "plt.plot(tm,x2.value,'b-',label=r'$x_2$')\n",
    "# plt.plot(tm,x3.value,'g--',label=r'$x_3$')\n",
    "plt.plot(tm,u.value,'r--',label=r'$u$')\n",
    "plt.legend(loc='best')\n",
    "plt.xlabel('Time')"
   ]
  },
  {
   "cell_type": "code",
   "execution_count": 9,
   "metadata": {},
   "outputs": [
    {
     "name": "stdout",
     "output_type": "stream",
     "text": [
      "apm 118.201.101.210_gk_model7 <br><pre> ----------------------------------------------------------------\n",
      " APMonitor, Version 1.0.1\n",
      " APMonitor Optimization Suite\n",
      " ----------------------------------------------------------------\n",
      " \n",
      " \n",
      " --------- APM Model Size ------------\n",
      " Each time step contains\n",
      "   Objects      :            0\n",
      "   Constants    :            0\n",
      "   Variables    :            4\n",
      "   Intermediates:            0\n",
      "   Connections  :            2\n",
      "   Equations    :            3\n",
      "   Residuals    :            3\n",
      " \n",
      " Number of state variables:          28999\n",
      " Number of total equations: -        28000\n",
      " Number of slack variables: -            0\n",
      " ---------------------------------------\n",
      " Degrees of freedom       :            999\n",
      " \n",
      " ----------------------------------------------\n",
      " Dynamic Control with APOPT Solver\n",
      " ----------------------------------------------\n"
     ]
    }
   ],
   "source": [
    "## https://apmonitor.com/do/index.php/Main/RocketOptimization\n",
    "\n",
    "import numpy as np\n",
    "import matplotlib.pyplot as plt\n",
    "from gekko import GEKKO\n",
    "\n",
    "# create GEKKO model\n",
    "m = GEKKO()\n",
    "\n",
    "# scale 0-1 time with tf\n",
    "m.time = np.linspace(0,1,1001)\n",
    "\n",
    "# options\n",
    "m.options.NODES = 6\n",
    "m.options.SOLVER = 3\n",
    "m.options.IMODE = 6\n",
    "m.options.MAX_ITER = 5000\n",
    "m.options.MV_TYPE = 0\n",
    "m.options.DIAGLEVEL = 0\n",
    "\n",
    "# final time\n",
    "tf = m.FV(value=1.0,lb=0.1,ub=15)\n",
    "tf.STATUS = 1\n",
    "\n",
    "# force\n",
    "u = m.MV(value=10,lb=-10,ub=10)\n",
    "u.STATUS = 1\n",
    "u.DCOST = 1e-5\n",
    "\n",
    "# variables\n",
    "s = m.Var(value=0,lb=0, ub=100)\n",
    "v = m.Var(value=0,lb=-10,ub=4)\n",
    "## mass = m.Var(value=1,lb=0.2)\n",
    "\n",
    "# differential equations scaled by tf\n",
    "m.Equation(s.dt()==tf*v)\n",
    "m.Equation(v.dt()==tf*(u))\n",
    "# m.Equation(mass.dt()==tf*(-0.01*u**2))\n",
    "\n",
    "# specify endpoint conditions\n",
    "m.fix(s, pos=len(m.time)-1,val=10.0)\n",
    "#m.fix(v, pos=len(m.time)-1,val=0.0)\n",
    "\n",
    "# minimize final time\n",
    "m.Obj(tf)\n",
    "\n",
    "# Optimize launch\n",
    "m.solve()\n",
    "\n",
    "print('Optimal Solution (final time): ' + str(tf.value[0]))\n",
    "\n",
    "# scaled time\n",
    "ts = m.time * tf.value[0]\n",
    "\n",
    "# plot results\n",
    "plt.figure(1)\n",
    "plt.subplot(3,1,1)\n",
    "plt.plot(ts,s.value,'r-',lw=2)\n",
    "plt.ylabel('Position')\n",
    "plt.legend(['s (Position)'])\n",
    "\n",
    "plt.subplot(3,1,2)\n",
    "plt.plot(ts,v.value,'b-',lw=2)\n",
    "plt.ylabel('Velocity')\n",
    "plt.legend(['v (Velocity)'])\n",
    "\n",
    "# plt.subplot(4,1,3)\n",
    "# plt.plot(ts,mass.value,'k-',lw=2)\n",
    "# plt.ylabel('Mass')\n",
    "# plt.legend(['m (Mass)'])\n",
    "\n",
    "plt.subplot(3,1,3)\n",
    "plt.plot(ts,u.value,'g-',lw=2)\n",
    "plt.ylabel('Force')\n",
    "plt.legend(['u (Force)'])\n",
    "\n",
    "plt.xlabel('Time')\n",
    "plt.show()"
   ]
  },
  {
   "cell_type": "code",
   "execution_count": 5,
   "metadata": {},
   "outputs": [
    {
     "name": "stdout",
     "output_type": "stream",
     "text": [
      "2.9\n"
     ]
    }
   ],
   "source": [
    "def get_theory_T(p): \n",
    "    return 2.5 + 40 /(100 - p ** 2)\n",
    "\n",
    "print (get_theory_T(0))"
   ]
  },
  {
   "cell_type": "code",
   "execution_count": null,
   "metadata": {},
   "outputs": [],
   "source": []
  }
 ],
 "metadata": {
  "kernelspec": {
   "display_name": "Python 3.10.4 ('dev_venv')",
   "language": "python",
   "name": "python3"
  },
  "language_info": {
   "codemirror_mode": {
    "name": "ipython",
    "version": 3
   },
   "file_extension": ".py",
   "mimetype": "text/x-python",
   "name": "python",
   "nbconvert_exporter": "python",
   "pygments_lexer": "ipython3",
   "version": "3.10.4"
  },
  "orig_nbformat": 4,
  "vscode": {
   "interpreter": {
    "hash": "a72265a7dd9fbfa8f2042a79c7fad5ada62d32bd8552369dba007e4fd9852fff"
   }
  }
 },
 "nbformat": 4,
 "nbformat_minor": 2
}
